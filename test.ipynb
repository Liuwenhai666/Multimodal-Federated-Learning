{
 "cells": [
  {
   "cell_type": "code",
   "execution_count": 1,
   "metadata": {},
   "outputs": [],
   "source": [
    "import numpy as np\n",
    "import pandas as pd\n",
    "import os\n",
    "import pickle\n",
    "from tqdm import tqdm\n",
    "from pathlib import Path\n",
    "from collections import Counter\n",
    "from sklearn.preprocessing import StandardScaler"
   ]
  },
  {
   "cell_type": "code",
   "execution_count": 2,
   "metadata": {},
   "outputs": [
    {
     "data": {
      "text/html": [
       "<div>\n",
       "<style scoped>\n",
       "    .dataframe tbody tr th:only-of-type {\n",
       "        vertical-align: middle;\n",
       "    }\n",
       "\n",
       "    .dataframe tbody tr th {\n",
       "        vertical-align: top;\n",
       "    }\n",
       "\n",
       "    .dataframe thead th {\n",
       "        text-align: right;\n",
       "    }\n",
       "</style>\n",
       "<table border=\"1\" class=\"dataframe\">\n",
       "  <thead>\n",
       "    <tr style=\"text-align: right;\">\n",
       "      <th></th>\n",
       "      <th>TurbID</th>\n",
       "      <th>Day</th>\n",
       "      <th>Tmstamp</th>\n",
       "      <th>Wspd</th>\n",
       "      <th>Wdir</th>\n",
       "      <th>Etmp</th>\n",
       "      <th>Itmp</th>\n",
       "      <th>Ndir</th>\n",
       "      <th>Pab1</th>\n",
       "      <th>Pab2</th>\n",
       "      <th>Pab3</th>\n",
       "      <th>Prtv</th>\n",
       "      <th>Patv</th>\n",
       "    </tr>\n",
       "  </thead>\n",
       "  <tbody>\n",
       "    <tr>\n",
       "      <th>0</th>\n",
       "      <td>1</td>\n",
       "      <td>1</td>\n",
       "      <td>00:00</td>\n",
       "      <td>6.17</td>\n",
       "      <td>-3.99</td>\n",
       "      <td>30.73</td>\n",
       "      <td>41.80</td>\n",
       "      <td>25.92</td>\n",
       "      <td>1.0</td>\n",
       "      <td>1.0</td>\n",
       "      <td>1.0</td>\n",
       "      <td>-0.25</td>\n",
       "      <td>494.66</td>\n",
       "    </tr>\n",
       "    <tr>\n",
       "      <th>1</th>\n",
       "      <td>2</td>\n",
       "      <td>1</td>\n",
       "      <td>00:10</td>\n",
       "      <td>6.17</td>\n",
       "      <td>-3.99</td>\n",
       "      <td>30.73</td>\n",
       "      <td>41.80</td>\n",
       "      <td>25.92</td>\n",
       "      <td>1.0</td>\n",
       "      <td>1.0</td>\n",
       "      <td>1.0</td>\n",
       "      <td>-0.25</td>\n",
       "      <td>494.66</td>\n",
       "    </tr>\n",
       "    <tr>\n",
       "      <th>2</th>\n",
       "      <td>2</td>\n",
       "      <td>1</td>\n",
       "      <td>00:20</td>\n",
       "      <td>6.27</td>\n",
       "      <td>-2.18</td>\n",
       "      <td>30.60</td>\n",
       "      <td>41.63</td>\n",
       "      <td>20.91</td>\n",
       "      <td>1.0</td>\n",
       "      <td>1.0</td>\n",
       "      <td>1.0</td>\n",
       "      <td>-0.24</td>\n",
       "      <td>509.76</td>\n",
       "    </tr>\n",
       "    <tr>\n",
       "      <th>3</th>\n",
       "      <td>1</td>\n",
       "      <td>1</td>\n",
       "      <td>00:30</td>\n",
       "      <td>6.42</td>\n",
       "      <td>-0.73</td>\n",
       "      <td>30.52</td>\n",
       "      <td>41.52</td>\n",
       "      <td>20.91</td>\n",
       "      <td>1.0</td>\n",
       "      <td>1.0</td>\n",
       "      <td>1.0</td>\n",
       "      <td>-0.26</td>\n",
       "      <td>542.53</td>\n",
       "    </tr>\n",
       "    <tr>\n",
       "      <th>4</th>\n",
       "      <td>1</td>\n",
       "      <td>1</td>\n",
       "      <td>00:40</td>\n",
       "      <td>6.25</td>\n",
       "      <td>0.89</td>\n",
       "      <td>30.49</td>\n",
       "      <td>41.38</td>\n",
       "      <td>20.91</td>\n",
       "      <td>1.0</td>\n",
       "      <td>1.0</td>\n",
       "      <td>1.0</td>\n",
       "      <td>-0.23</td>\n",
       "      <td>509.36</td>\n",
       "    </tr>\n",
       "    <tr>\n",
       "      <th>5</th>\n",
       "      <td>1</td>\n",
       "      <td>1</td>\n",
       "      <td>00:50</td>\n",
       "      <td>6.10</td>\n",
       "      <td>-1.03</td>\n",
       "      <td>30.47</td>\n",
       "      <td>41.22</td>\n",
       "      <td>20.91</td>\n",
       "      <td>1.0</td>\n",
       "      <td>1.0</td>\n",
       "      <td>1.0</td>\n",
       "      <td>-0.27</td>\n",
       "      <td>482.21</td>\n",
       "    </tr>\n",
       "    <tr>\n",
       "      <th>6</th>\n",
       "      <td>3</td>\n",
       "      <td>1</td>\n",
       "      <td>01:00</td>\n",
       "      <td>6.77</td>\n",
       "      <td>1.07</td>\n",
       "      <td>30.31</td>\n",
       "      <td>41.19</td>\n",
       "      <td>20.91</td>\n",
       "      <td>1.0</td>\n",
       "      <td>1.0</td>\n",
       "      <td>1.0</td>\n",
       "      <td>-0.23</td>\n",
       "      <td>584.75</td>\n",
       "    </tr>\n",
       "    <tr>\n",
       "      <th>7</th>\n",
       "      <td>3</td>\n",
       "      <td>1</td>\n",
       "      <td>01:10</td>\n",
       "      <td>6.70</td>\n",
       "      <td>-2.80</td>\n",
       "      <td>30.24</td>\n",
       "      <td>41.00</td>\n",
       "      <td>20.91</td>\n",
       "      <td>1.0</td>\n",
       "      <td>1.0</td>\n",
       "      <td>1.0</td>\n",
       "      <td>-0.23</td>\n",
       "      <td>557.98</td>\n",
       "    </tr>\n",
       "    <tr>\n",
       "      <th>8</th>\n",
       "      <td>3</td>\n",
       "      <td>1</td>\n",
       "      <td>01:20</td>\n",
       "      <td>6.44</td>\n",
       "      <td>-3.46</td>\n",
       "      <td>30.13</td>\n",
       "      <td>40.91</td>\n",
       "      <td>20.91</td>\n",
       "      <td>1.0</td>\n",
       "      <td>1.0</td>\n",
       "      <td>1.0</td>\n",
       "      <td>-0.21</td>\n",
       "      <td>503.94</td>\n",
       "    </tr>\n",
       "  </tbody>\n",
       "</table>\n",
       "</div>"
      ],
      "text/plain": [
       "   TurbID  Day Tmstamp  Wspd  Wdir   Etmp   Itmp   Ndir  Pab1  Pab2  Pab3  \\\n",
       "0       1    1   00:00  6.17 -3.99  30.73  41.80  25.92   1.0   1.0   1.0   \n",
       "1       2    1   00:10  6.17 -3.99  30.73  41.80  25.92   1.0   1.0   1.0   \n",
       "2       2    1   00:20  6.27 -2.18  30.60  41.63  20.91   1.0   1.0   1.0   \n",
       "3       1    1   00:30  6.42 -0.73  30.52  41.52  20.91   1.0   1.0   1.0   \n",
       "4       1    1   00:40  6.25  0.89  30.49  41.38  20.91   1.0   1.0   1.0   \n",
       "5       1    1   00:50  6.10 -1.03  30.47  41.22  20.91   1.0   1.0   1.0   \n",
       "6       3    1   01:00  6.77  1.07  30.31  41.19  20.91   1.0   1.0   1.0   \n",
       "7       3    1   01:10  6.70 -2.80  30.24  41.00  20.91   1.0   1.0   1.0   \n",
       "8       3    1   01:20  6.44 -3.46  30.13  40.91  20.91   1.0   1.0   1.0   \n",
       "\n",
       "   Prtv    Patv  \n",
       "0 -0.25  494.66  \n",
       "1 -0.25  494.66  \n",
       "2 -0.24  509.76  \n",
       "3 -0.26  542.53  \n",
       "4 -0.23  509.36  \n",
       "5 -0.27  482.21  \n",
       "6 -0.23  584.75  \n",
       "7 -0.23  557.98  \n",
       "8 -0.21  503.94  "
      ]
     },
     "execution_count": 2,
     "metadata": {},
     "output_type": "execute_result"
    }
   ],
   "source": [
    "pd.read_csv(\"demo.csv\").fillna(method=\"backfill\", inplace=False)"
   ]
  },
  {
   "cell_type": "code",
   "execution_count": 3,
   "metadata": {},
   "outputs": [
    {
     "name": "stdout",
     "output_type": "stream",
     "text": [
      "数据总个数为: 393960\n",
      "客户端个数为: 134\n"
     ]
    },
    {
     "name": "stderr",
     "output_type": "stream",
     "text": [
      "100%|██████████| 134/134 [00:35<00:00,  3.79it/s]\n"
     ]
    }
   ],
   "source": [
    "df = pd.read_csv(\"/mnt/File/my_file/2024-2/fed-multimodal/fed_multimodal/data/SDWPF/SDWPF.csv\")\n",
    "df.fillna(method=\"backfill\", inplace=True)\n",
    "df.fillna(method=\"pad\",inplace=True)\n",
    "# 删除 Day 和 Tmstamp 两列\n",
    "# df.drop(columns=[\"Day\", \"Tmstamp\"], inplace=True)\n",
    "# 按 TurbID 分组\n",
    "groups = df.groupby(\"TurbID\")\n",
    "\n",
    "# 将分组后的数据格式转换成 NumPy\n",
    "data_by_turbid = {\n",
    "    turbid: group.drop(columns=[\"TurbID\", \"Day\", \"Tmstamp\"])    # 删除 Day 和 Tmstamp 两列\n",
    "    for turbid, group in groups\n",
    "}\n",
    "\n",
    "agg_batch = 12  # 两个小时\n",
    "print(\"数据总个数为:\", int(df.shape[0] // agg_batch))\n",
    "print(\"客户端个数为:\", int(len(data_by_turbid)))\n",
    "\n",
    "# 多模态数据分类\n",
    "model1_dict = {}\n",
    "model2_dict = {}\n",
    "# 规范化数据，处理预测值\n",
    "for turbid, data in tqdm(data_by_turbid.items()):\n",
    "    data_by_turbid[turbid][\"Patv\"] = data_by_turbid[turbid][\"Patv\"].groupby(np.arange(len(data_by_turbid[turbid])) // agg_batch).transform(\"mean\")\n",
    "    scaler = StandardScaler()\n",
    "    data_by_turbid[turbid][['Wspd', 'Wdir', 'Etmp', 'Itmp', 'Ndir', 'Pab1', 'Pab2', 'Pab3', 'Prtv']] = scaler.fit_transform(data_by_turbid[turbid][['Wspd', 'Wdir', 'Etmp', 'Itmp', 'Ndir', 'Pab1', 'Pab2', 'Pab3', 'Prtv']])\n",
    "    data_by_turbid[turbid] = data_by_turbid[turbid][['Wspd','Etmp','Itmp','Prtv','Wdir','Ndir','Pab1','Pab2','Pab3','Patv']].reset_index(drop=True)\n",
    "    \n",
    "    # 预测之后两个小时的发电量\n",
    "    for i in range(data_by_turbid[turbid].shape[0]):\n",
    "        \n",
    "        if i % agg_batch != 0: continue\n",
    "        if i > data_by_turbid[turbid].shape[0] - agg_batch + 1: break\n",
    "        \n",
    "        # print(i-agg_batch,i-1)\n",
    "        data_by_turbid[turbid].loc[i-agg_batch:i-1,\"Patv\"] = data_by_turbid[turbid].at[i,\"Patv\"]\n",
    "        \n",
    "    model1_dict[turbid] = data_by_turbid[turbid][['Wspd','Etmp','Itmp','Prtv','Patv']].to_numpy()\n",
    "    model2_dict[turbid] = data_by_turbid[turbid][['Wdir','Ndir','Pab1','Pab2','Pab3','Patv']].to_numpy()\n",
    "   \n"
   ]
  },
  {
   "cell_type": "code",
   "execution_count": 4,
   "metadata": {},
   "outputs": [],
   "source": [
    "def split_train_dev_test(\n",
    "    data_index: list,\n",
    "    seed: int=8\n",
    ") -> tuple[list, list, list]:\n",
    "    \n",
    "    train_arr = np.arange(len(data_index))\n",
    "    np.random.seed(seed)\n",
    "    np.random.shuffle(train_arr)\n",
    "    \n",
    "    train_len = int(len(data_index) * 0.7)\n",
    "    val_len = int(len(data_index) * 0.15)\n",
    "    # test_len = int(len(data_index) * 0.15)\n",
    "    \n",
    "    # print(train_len, \" \",val_len,\" \", test_len)\n",
    "    \n",
    "    train_index = [data_index[idx] for idx in train_arr[:train_len]]\n",
    "    val_index = [data_index[idx] for idx in train_arr[train_len:train_len + val_len]]\n",
    "    test_index = [data_index[idx] for idx in train_arr[train_len + val_len:]]\n",
    "    \n",
    "    return train_index, val_index, test_index"
   ]
  },
  {
   "cell_type": "code",
   "execution_count": 36,
   "metadata": {},
   "outputs": [],
   "source": [
    "model1_dict_train = []\n",
    "model2_dict_train = []\n",
    "\n",
    "model1_dict_val = []\n",
    "model2_dict_val = []\n",
    "\n",
    "model1_dict_test = []\n",
    "model2_dict_test = []"
   ]
  },
  {
   "cell_type": "code",
   "execution_count": 39,
   "metadata": {},
   "outputs": [
    {
     "name": "stderr",
     "output_type": "stream",
     "text": [
      "  0%|          | 0/134 [00:00<?, ?it/s]"
     ]
    },
    {
     "name": "stderr",
     "output_type": "stream",
     "text": [
      "100%|██████████| 134/134 [00:01<00:00, 95.07it/s] \n"
     ]
    }
   ],
   "source": [
    "len_total = len(model1_dict[1]) // 12\n",
    "for i, _ in tqdm(model1_dict.items()):\n",
    "    model1_dict_train.append(list())\n",
    "    model2_dict_train.append(list())\n",
    "    model1_dict_val.append(list())\n",
    "    model2_dict_val.append(list())\n",
    "    model1_dict_test.append(list())\n",
    "    model2_dict_test.append(list())\n",
    "    train_index, val_index, test_index = split_train_dev_test(np.arange(len_total))\n",
    "    \n",
    "    for j in train_index:\n",
    "        tmp1 = [i, model1_dict[i][j*agg_batch,4], model1_dict[i][j*agg_batch:(j+1)*agg_batch,0:4]]\n",
    "        tmp2 = [i, model2_dict[i][j*agg_batch,5], model2_dict[i][j*agg_batch:(j+1)*agg_batch,0:5]]\n",
    "        model1_dict_train[i-1].append(tmp1)\n",
    "        model2_dict_train[i-1].append(tmp2)\n",
    "        \n",
    "    for j in test_index:\n",
    "        tmp1 = [i, model1_dict[i][j*agg_batch,4], model1_dict[i][j*agg_batch:(j+1)*agg_batch,0:4]]\n",
    "        tmp2 = [i, model2_dict[i][j*agg_batch,5], model2_dict[i][j*agg_batch:(j+1)*agg_batch,0:5]]\n",
    "        model1_dict_test[i-1].append(tmp1)\n",
    "        model2_dict_test[i-1].append(tmp2)\n",
    "        \n",
    "    for j in val_index:\n",
    "        tmp1 = [i, model1_dict[i][j*agg_batch,4], model1_dict[i][j*agg_batch:(j+1)*agg_batch,0:4]]\n",
    "        tmp2 = [i, model2_dict[i][j*agg_batch,5], model2_dict[i][j*agg_batch:(j+1)*agg_batch,0:5]]\n",
    "        model1_dict_val[i-1].append(tmp1)\n",
    "        model2_dict_val[i-1].append(tmp2)"
   ]
  },
  {
   "cell_type": "code",
   "execution_count": 48,
   "metadata": {},
   "outputs": [
    {
     "data": {
      "text/plain": [
       "[1,\n",
       " 1248.7308333333333,\n",
       " array([[ 1.4031354 , -0.21303465,  0.00215075,  0.04200387],\n",
       "        [ 1.29331267, -0.19902366,  0.01082414,  0.04253002],\n",
       "        [ 1.31253165, -0.18781487,  0.01516084,  0.04253002],\n",
       "        [ 1.36469744, -0.17884783,  0.02879045,  0.04226695],\n",
       "        [ 1.31527721, -0.16539728,  0.03932243,  0.04410848],\n",
       "        [ 1.50197585, -0.15699069,  0.05047393,  0.0417408 ],\n",
       "        [ 1.43059108, -0.14914454,  0.05109346,  0.0427931 ],\n",
       "        [ 1.45530119, -0.1401775 ,  0.05790826,  0.0448977 ],\n",
       "        [ 1.57061506, -0.13681487,  0.06720118,  0.04200387],\n",
       "        [ 1.49923028, -0.13345223,  0.0696793 ,  0.04200387],\n",
       "        [ 1.35371517, -0.13008959,  0.07401599,  0.04463463],\n",
       "        [ 1.59807074, -0.12560607,  0.08268938,  0.04253002]])]"
      ]
     },
     "execution_count": 48,
     "metadata": {},
     "output_type": "execute_result"
    }
   ],
   "source": [
    "model1_dict_train[0][198]"
   ]
  },
  {
   "cell_type": "code",
   "execution_count": 2,
   "metadata": {},
   "outputs": [],
   "source": [
    "with open(str(\"/mnt/File/my_file/2024-2/fed-multimodal/fed_multimodal/output/feature/acc/uci-har/alpha01/1-0.pkl\"), \"rb\") as f: data_dict = pickle.load(f)"
   ]
  },
  {
   "cell_type": "code",
   "execution_count": 6,
   "metadata": {},
   "outputs": [
    {
     "data": {
      "text/plain": [
       "(128, 3)"
      ]
     },
     "execution_count": 6,
     "metadata": {},
     "output_type": "execute_result"
    }
   ],
   "source": [
    "data_dict[1][3].shape"
   ]
  },
  {
   "cell_type": "code",
   "execution_count": 8,
   "metadata": {},
   "outputs": [],
   "source": [
    "with open(str(\"/mnt/File/my_file/2024-2/fed-multimodal/fed_multimodal/output/feature/model1/SDWPF/alpha12/1.pkl\"), \"rb\") as f: data_dict = pickle.load(f)"
   ]
  },
  {
   "cell_type": "code",
   "execution_count": 11,
   "metadata": {},
   "outputs": [
    {
     "data": {
      "text/plain": [
       "[1,\n",
       " 11.063333333333333,\n",
       " array([[-0.38972064,  0.47966867,  0.24314711,  0.04331925],\n",
       "        [-0.23596882,  0.48247087,  0.2450057 ,  0.04305617],\n",
       "        [-0.09869041,  0.49367966,  0.25863531,  0.04305617],\n",
       "        [-0.44737758,  0.49367966,  0.2561572 ,  0.04358233],\n",
       "        [-0.47757883,  0.48807526,  0.25058145,  0.0427931 ],\n",
       "        [-0.56818258,  0.48191043,  0.24686428,  0.0427931 ],\n",
       "        [-0.81253815,  0.48247087,  0.24748381,  0.04358233],\n",
       "        [-0.51601678,  0.41129504,  0.2295175 ,  0.0427931 ],\n",
       "        [-0.42541303,  0.39336097,  0.20411685,  0.04358233],\n",
       "        [-0.6011294 ,  0.40008625,  0.18615054,  0.0438454 ],\n",
       "        [-0.7301711 ,  0.42642691,  0.2028778 ,  0.0427931 ],\n",
       "        [-0.53798133,  0.43707526,  0.22084411,  0.0427931 ]])]"
      ]
     },
     "execution_count": 11,
     "metadata": {},
     "output_type": "execute_result"
    }
   ],
   "source": [
    "data_dict[1]"
   ]
  }
 ],
 "metadata": {
  "kernelspec": {
   "display_name": "fed-multimodal",
   "language": "python",
   "name": "python3"
  },
  "language_info": {
   "codemirror_mode": {
    "name": "ipython",
    "version": 3
   },
   "file_extension": ".py",
   "mimetype": "text/x-python",
   "name": "python",
   "nbconvert_exporter": "python",
   "pygments_lexer": "ipython3",
   "version": "3.9.18"
  }
 },
 "nbformat": 4,
 "nbformat_minor": 2
}
